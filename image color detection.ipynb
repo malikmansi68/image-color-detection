{
 "cells": [
  {
   "cell_type": "markdown",
   "id": "5cbafa63",
   "metadata": {},
   "source": [
    "## TASK 2"
   ]
  },
  {
   "cell_type": "markdown",
   "id": "74d8d446",
   "metadata": {},
   "source": [
    "# MANSI"
   ]
  },
  {
   "cell_type": "markdown",
   "id": "2557e520",
   "metadata": {},
   "source": [
    "# DATASET=https://github.com/codebrainz/color-names/blob/master/output/colors.csv"
   ]
  },
  {
   "cell_type": "markdown",
   "id": "19da5aa4",
   "metadata": {},
   "source": [
    "# importing the dependencies"
   ]
  },
  {
   "cell_type": "code",
   "execution_count": null,
   "id": "36521716",
   "metadata": {},
   "outputs": [],
   "source": [
    "import cv2\n",
    "import pandas as pd\n"
   ]
  },
  {
   "cell_type": "markdown",
   "id": "b5eda1c1",
   "metadata": {},
   "source": [
    "# reading image and dataframe(dataset)"
   ]
  },
  {
   "cell_type": "code",
   "execution_count": null,
   "id": "19aa0806",
   "metadata": {},
   "outputs": [],
   "source": [
    "img_path='colour detection.jpg'\n",
    "csv_path='colors.csv'"
   ]
  },
  {
   "cell_type": "code",
   "execution_count": null,
   "id": "d7c54d16",
   "metadata": {},
   "outputs": [],
   "source": [
    "index=['color','color_name','hex','R','G','B']\n",
    "df=pd.read_csv(csv_path, names=index,header=None)"
   ]
  },
  {
   "cell_type": "code",
   "execution_count": null,
   "id": "e7e12051",
   "metadata": {},
   "outputs": [],
   "source": [
    "df.head()"
   ]
  },
  {
   "cell_type": "code",
   "execution_count": null,
   "id": "0b6f6159",
   "metadata": {},
   "outputs": [],
   "source": [
    "img=cv2.imread(img_path)\n",
    "img=cv2.resize(img,(800,600))\n",
    "imgWidth = img.shape[1] - 40"
   ]
  },
  {
   "cell_type": "markdown",
   "id": "325ec571",
   "metadata": {},
   "source": [
    "# defining functions to get the name of the colors"
   ]
  },
  {
   "cell_type": "code",
   "execution_count": null,
   "id": "93a9289a",
   "metadata": {},
   "outputs": [],
   "source": [
    "r = g = b = xpos = ypos = 0\n",
    "def getRGBvalue(event, x, y, flags, param):\n",
    "    global b, g, r, xpos, ypos, clicked\n",
    "    xpos = x\n",
    "    ypos = y\n",
    "    b,g,r = img[y,x]\n",
    "    b = int(b)\n",
    "    g = int(g)\n",
    "    r = int(r)"
   ]
  },
  {
   "cell_type": "code",
   "execution_count": null,
   "id": "98e5cec9",
   "metadata": {},
   "outputs": [],
   "source": [
    "def colorname(B,G,R):\n",
    "    minimum = 10000\n",
    "    for i in range(len(df)):\n",
    "        d = abs(B-int(df.loc[i,\"B\"])) + abs(G-int(df.loc[i,\"G\"])) + abs(R-int(df.loc[i,\"R\"]))\n",
    "        if (d<=minimum):\n",
    "            minimum = d\n",
    "            cname = df.loc[i,\"color_name\"] + \"Hex\" + df.loc[i, \"hex\"]\n",
    "    return cname"
   ]
  },
  {
   "cell_type": "code",
   "execution_count": null,
   "id": "2195d860",
   "metadata": {},
   "outputs": [],
   "source": [
    "cv2.namedWindow(\"Image\")\n",
    "cv2.setMouseCallback(\"Image\",getRGBvalue)\n",
    "while True:\n",
    "    cv2.imshow(\"Image\", img)\n",
    "    cv2.rectangle(img, (20,20), (imgWidth, 60),(b,g,r), -1)\n",
    "    text = colorname(b,g,r) + '   R=' + str(r) + ' G=' + str(g) + ' B=' + str(b)\n",
    "    cv2.putText(img,text, (50,50),2, 0.8, (255,255,255),2,cv2.LINE_AA)    \n",
    "    if(r+g+b >= 600):\n",
    "        cv2.putText(img,text,(50,50), 2, 0.8, (0,0,0),2,cv2.LINE_AA)   \n",
    "    if cv2.waitKey(20) & 0xFF == 27:\n",
    "        break\n",
    "    \n",
    "cv2.destroyAllWindows()"
   ]
  },
  {
   "cell_type": "code",
   "execution_count": null,
   "id": "99657257",
   "metadata": {},
   "outputs": [],
   "source": []
  }
 ],
 "metadata": {
  "kernelspec": {
   "display_name": "Python 3 (ipykernel)",
   "language": "python",
   "name": "python3"
  },
  "language_info": {
   "codemirror_mode": {
    "name": "ipython",
    "version": 3
   },
   "file_extension": ".py",
   "mimetype": "text/x-python",
   "name": "python",
   "nbconvert_exporter": "python",
   "pygments_lexer": "ipython3",
   "version": "3.9.7"
  }
 },
 "nbformat": 4,
 "nbformat_minor": 5
}
